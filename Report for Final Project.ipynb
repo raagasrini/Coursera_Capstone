{
    "cells": [
        {
            "cell_type": "markdown",
            "metadata": {
                "collapsed": true
            },
            "source": "# Capstone Project: Battle of the Neighbourhoods (Week 1 and 2)"
        },
        {
            "cell_type": "markdown",
            "metadata": {},
            "source": "For the final section of the Capstone project, I chose to use the Foursquare Data for the following idea. "
        },
        {
            "cell_type": "markdown",
            "metadata": {},
            "source": "## Introduction"
        },
        {
            "cell_type": "markdown",
            "metadata": {},
            "source": "Have you ever wondered what would happen to you when you grow old? Whether you would be able to walk by yourself, whether there would be someone to take care of you? One of my wishes for my future self is that i am a part of a community when i grow older. So when my grandmother who lives accross a continent from me said that she wanted to join a retirement home, i was perplexed, but slowly came to understand her reasons. "
        },
        {
            "cell_type": "markdown",
            "metadata": {},
            "source": "For this purpose, I am making my final Capstone project on locating an ideal Retirement home in Toronto that suits my interests. In doing so, i would consider its proximity to common spaces, cafes, Places of Worship and general restaurants in the area. "
        },
        {
            "cell_type": "markdown",
            "metadata": {},
            "source": "### Target Audience"
        },
        {
            "cell_type": "markdown",
            "metadata": {},
            "source": "As mentioned in the Project brief, a Data Science project needs to have a target audience. I believe this project would be useful to a large section of middle-aged individulas whoa re planning for their old-age. It would also provide insight to youth who want to ensure their loved ones are cared for and have acceess to multiple facilities according to their requirements."
        },
        {
            "cell_type": "markdown",
            "metadata": {},
            "source": "## Data"
        },
        {
            "cell_type": "markdown",
            "metadata": {},
            "source": "To first assess the various locations of Retirement homes in Toronto, I used the data provided by the Toronto Open Data catalogue. \nhttps://open.toronto.ca/catalogue/?vocab_formats=CSV&vocab_topics=Locations%20and%20mapping&n=3&sort=score%20desc\nI obtained datasets on Places of Worship as well. I will be using Foursquare to further assess the venues near to the filtered list of retirement homes to make the final choice. "
        },
        {
            "cell_type": "markdown",
            "metadata": {},
            "source": "The Retirement home data would provide me information on the number of bed capacity and address of the home, allowing me to filter out the size and neighbourhood in which i want to choose. All the other data on amenities and venues nearby (Foursquare information) would allow me to filter out the homes till i reach the ideal one. "
        },
        {
            "cell_type": "markdown",
            "metadata": {},
            "source": "For example, If I were a christian, I would choose a retirement home that was close to a church and as an avid reader, was close to a public library. Out of interest, using the Foursquare data, having information about venues nearby ( Is there a pizza place nearby?) would be beneficial."
        },
        {
            "cell_type": "markdown",
            "metadata": {},
            "source": "## Methodology"
        },
        {
            "cell_type": "markdown",
            "metadata": {},
            "source": "The methodology for the project was as follows:\n- I accessed the data on Retirement homes and had to check how they were spread out in Toronto. I hence, cleaned the data and then used the geopy library to obtain the latitude and longitude values for the same. \n- I then went on to plot the data on a map using folium to obtain assess the spread and explore the data. \n- To choose an ideal Retirement home, I had to assess its proximity to a Place of Worship. Hence, the rspective data was accessed from the Toronto Open Data Catalogue, and subsequently cleaned\n- As a Hindu, I had to find out how many temples existed in Toronto, hence I created a bar chart (descriptive staistics) to show the various faiths and the number of places of worship they had in Toronto. \n- I then used folium libary to plot both the Temples and Retirement home data on the same map to observe which retirement homes might best be suited to cater to my intersets\n- On observation, I found 4 different Retirement homes that suited my interests, on oberving the bed capacity, this was further narrowed down to 2.\n- I then used Foursquare API to assess the venues near both the Retirement Homes to make the final call.\n\nThrough my exploratory analysis, I was able to answer the following questions:\n1. What sort of data would I require to find the optimal Retirement Home?\n2. What are the various religious beliefs of people in Toronto?\n3. What are the various activities I can take up near my retirement home?\n4. Are there enough restaurants and public spaces that allow me to enjoy my time?\n5. What is the size of the community within the Retirement Home?"
        },
        {
            "cell_type": "markdown",
            "metadata": {},
            "source": "## Results"
        },
        {
            "cell_type": "markdown",
            "metadata": {},
            "source": "From this project I was able to shortlist and finally identify which retirement home was best suited for my interests. I found that Eden Manor was the optimal retirement home for me as it was close to the Iskon temple. Furthermore, it had access to a park, several reaturants of various cuisines, museums and even a castle! It had a bed capacity of 22, which is perfect for me as i enjoy company but enjoy getting to know a few people very well than many people just on the surface. I loved exploring the venues through the screen, i can only imagine exploring them in person!"
        },
        {
            "cell_type": "markdown",
            "metadata": {},
            "source": "## Discussion "
        },
        {
            "cell_type": "markdown",
            "metadata": {},
            "source": "I truly enjoyed this Data Science Capstone project. I was able to understand alot about data and coding having no prior experience in the latter. Personally I feel that the I designed the project to ensure that its scope was restricted to the concepts i was most familiar with. I'm sure in the future, I will try to implement more complex machine learning techniques and inferential statistics. Overall, i think my project serves the purpose it was designed to. "
        },
        {
            "cell_type": "markdown",
            "metadata": {},
            "source": "## Conclusion "
        },
        {
            "cell_type": "markdown",
            "metadata": {},
            "source": "This Data Science course gave me a true insight into the unlimited possibilities of Data Analysis. It introduced me to a world i never knew existed and I take forward all the skills it taught me. As I am currently in the field of economics, I feel this skils will allow me to combine knowledge of economic policy and data analysis to create better projects in the future!"
        }
    ],
    "metadata": {
        "kernelspec": {
            "display_name": "Python 3.6",
            "language": "python",
            "name": "python3"
        },
        "language_info": {
            "codemirror_mode": {
                "name": "ipython",
                "version": 3
            },
            "file_extension": ".py",
            "mimetype": "text/x-python",
            "name": "python",
            "nbconvert_exporter": "python",
            "pygments_lexer": "ipython3",
            "version": "3.6.9"
        }
    },
    "nbformat": 4,
    "nbformat_minor": 1
}
