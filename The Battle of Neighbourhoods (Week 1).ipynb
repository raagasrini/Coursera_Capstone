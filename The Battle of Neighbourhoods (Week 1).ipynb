{
    "cells": [
        {
            "cell_type": "markdown",
            "metadata": {
                "collapsed": true
            },
            "source": "# Capstone Project: Battle of the Neighbourhoods (Week 1)"
        },
        {
            "cell_type": "markdown",
            "metadata": {},
            "source": "For the final section of the Capstone project, I chose to use the Foursquare Data for the following business idea. "
        },
        {
            "cell_type": "markdown",
            "metadata": {},
            "source": "## Introduction/Business Problem"
        },
        {
            "cell_type": "markdown",
            "metadata": {},
            "source": "Have you ever wondered what would happen to you when you grow old? Whether you would be able to walk by yourself, whether there would be someone to take care of you? One of my wishes for my future self is that i am a part of a community when i grow older. So when my grandmother who lives accross a continent from me said that she wanted to join a retirement home, i was perplexed, but slowly came to understand her reasons. "
        },
        {
            "cell_type": "markdown",
            "metadata": {},
            "source": "For this purpose, I am making my final Capstone project on locating an ideal Retirement home in Toronto that suits my interests. In doing so, i would consider its proximity to Community Centres, libraries, Places of Worship and general restaurants in the area. "
        },
        {
            "cell_type": "markdown",
            "metadata": {},
            "source": "### Target Audience"
        },
        {
            "cell_type": "markdown",
            "metadata": {},
            "source": "As mentioned in the Project brief, a Data Science project needs to have a target audience. I beleieve this project would be useful to a large section of middle-aged individulas whoa re planning for their old-age. It would also provide insight to youth who want to ensure their loved ones are cared for and have acceess to multiple facilities according to their requirements. "
        },
        {
            "cell_type": "markdown",
            "metadata": {},
            "source": "## Data"
        },
        {
            "cell_type": "markdown",
            "metadata": {},
            "source": "To first assess the various locations of Retirement homes in Toronto, i use data provided by the Toronto Open Data catalogue. \nhttps://open.toronto.ca/catalogue/?vocab_formats=CSV&vocab_topics=Locations%20and%20mapping&n=3&sort=score%20desc\nI obtained datasets on Places of Worship and Air Conditioned Public Places and Cooling Centres as well. I will be using Foursquare to further assess the venues near to the filtered list of retirement homes to make the final choice. "
        },
        {
            "cell_type": "markdown",
            "metadata": {},
            "source": "The Retirement home data would provide me information on the number of bed capacity and address of the home, allowing me to filter out the size and neighbourhood in which i want to choose. All the other data on amenities and venues nearby (Foursquare information) would allow me to filter out the homes till i reach the ideal one. "
        },
        {
            "cell_type": "markdown",
            "metadata": {},
            "source": "For example, If i were a christian, I would choose a retirement home that was close to a church and as an avid reader, was close to a public library. Out of interest, using the Foursquare data, having information about venues nearby ( Is there a pizza place nearby?) would be beneficial. "
        }
    ],
    "metadata": {
        "kernelspec": {
            "display_name": "Python 3.6",
            "language": "python",
            "name": "python3"
        },
        "language_info": {
            "codemirror_mode": {
                "name": "ipython",
                "version": 3
            },
            "file_extension": ".py",
            "mimetype": "text/x-python",
            "name": "python",
            "nbconvert_exporter": "python",
            "pygments_lexer": "ipython3",
            "version": "3.6.9"
        }
    },
    "nbformat": 4,
    "nbformat_minor": 1
}